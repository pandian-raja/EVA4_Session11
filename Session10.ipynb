{
  "nbformat": 4,
  "nbformat_minor": 0,
  "metadata": {
    "colab": {
      "name": "Session10.ipynb",
      "provenance": [],
      "collapsed_sections": [],
      "machine_shape": "hm",
      "authorship_tag": "ABX9TyNo1ilnca0H8iNur30CkgP3",
      "include_colab_link": true
    },
    "kernelspec": {
      "name": "python3",
      "display_name": "Python 3"
    },
    "accelerator": "GPU"
  },
  "cells": [
    {
      "cell_type": "markdown",
      "metadata": {
        "id": "view-in-github",
        "colab_type": "text"
      },
      "source": [
        "<a href=\"https://colab.research.google.com/github/pandian-raja/EVA4_Session11/blob/master/Session10.ipynb\" target=\"_parent\"><img src=\"https://colab.research.google.com/assets/colab-badge.svg\" alt=\"Open In Colab\"/></a>"
      ]
    },
    {
      "cell_type": "code",
      "metadata": {
        "id": "At8uDyjfBZMG",
        "colab_type": "code",
        "colab": {
          "base_uri": "https://localhost:8080/",
          "height": 331
        },
        "outputId": "2ae3309a-c2eb-49fe-ea4b-b9ecc0630f4c"
      },
      "source": [
        "!pip install albumentations\n"
      ],
      "execution_count": 1,
      "outputs": [
        {
          "output_type": "stream",
          "text": [
            "Requirement already satisfied: albumentations in /usr/local/lib/python3.6/dist-packages (0.1.12)\n",
            "Requirement already satisfied: scipy in /usr/local/lib/python3.6/dist-packages (from albumentations) (1.4.1)\n",
            "Requirement already satisfied: opencv-python in /usr/local/lib/python3.6/dist-packages (from albumentations) (4.1.2.30)\n",
            "Requirement already satisfied: numpy>=1.11.1 in /usr/local/lib/python3.6/dist-packages (from albumentations) (1.18.2)\n",
            "Requirement already satisfied: imgaug<0.2.7,>=0.2.5 in /usr/local/lib/python3.6/dist-packages (from albumentations) (0.2.6)\n",
            "Requirement already satisfied: scikit-image>=0.11.0 in /usr/local/lib/python3.6/dist-packages (from imgaug<0.2.7,>=0.2.5->albumentations) (0.16.2)\n",
            "Requirement already satisfied: six in /usr/local/lib/python3.6/dist-packages (from imgaug<0.2.7,>=0.2.5->albumentations) (1.12.0)\n",
            "Requirement already satisfied: matplotlib!=3.0.0,>=2.0.0 in /usr/local/lib/python3.6/dist-packages (from scikit-image>=0.11.0->imgaug<0.2.7,>=0.2.5->albumentations) (3.2.1)\n",
            "Requirement already satisfied: PyWavelets>=0.4.0 in /usr/local/lib/python3.6/dist-packages (from scikit-image>=0.11.0->imgaug<0.2.7,>=0.2.5->albumentations) (1.1.1)\n",
            "Requirement already satisfied: networkx>=2.0 in /usr/local/lib/python3.6/dist-packages (from scikit-image>=0.11.0->imgaug<0.2.7,>=0.2.5->albumentations) (2.4)\n",
            "Requirement already satisfied: pillow>=4.3.0 in /usr/local/lib/python3.6/dist-packages (from scikit-image>=0.11.0->imgaug<0.2.7,>=0.2.5->albumentations) (7.0.0)\n",
            "Requirement already satisfied: imageio>=2.3.0 in /usr/local/lib/python3.6/dist-packages (from scikit-image>=0.11.0->imgaug<0.2.7,>=0.2.5->albumentations) (2.4.1)\n",
            "Requirement already satisfied: cycler>=0.10 in /usr/local/lib/python3.6/dist-packages (from matplotlib!=3.0.0,>=2.0.0->scikit-image>=0.11.0->imgaug<0.2.7,>=0.2.5->albumentations) (0.10.0)\n",
            "Requirement already satisfied: kiwisolver>=1.0.1 in /usr/local/lib/python3.6/dist-packages (from matplotlib!=3.0.0,>=2.0.0->scikit-image>=0.11.0->imgaug<0.2.7,>=0.2.5->albumentations) (1.2.0)\n",
            "Requirement already satisfied: pyparsing!=2.0.4,!=2.1.2,!=2.1.6,>=2.0.1 in /usr/local/lib/python3.6/dist-packages (from matplotlib!=3.0.0,>=2.0.0->scikit-image>=0.11.0->imgaug<0.2.7,>=0.2.5->albumentations) (2.4.7)\n",
            "Requirement already satisfied: python-dateutil>=2.1 in /usr/local/lib/python3.6/dist-packages (from matplotlib!=3.0.0,>=2.0.0->scikit-image>=0.11.0->imgaug<0.2.7,>=0.2.5->albumentations) (2.8.1)\n",
            "Requirement already satisfied: decorator>=4.3.0 in /usr/local/lib/python3.6/dist-packages (from networkx>=2.0->scikit-image>=0.11.0->imgaug<0.2.7,>=0.2.5->albumentations) (4.4.2)\n"
          ],
          "name": "stdout"
        }
      ]
    },
    {
      "cell_type": "code",
      "metadata": {
        "id": "YF1AJXO-BcG0",
        "colab_type": "code",
        "colab": {}
      },
      "source": [
        "import torch.nn as nn\n",
        "import torch.nn.functional as F\n",
        "import torch.optim as optim\n",
        "import torch\n",
        "import numpy as np\n",
        "from tqdm import tqdm\n",
        "# from torch_lr_finder import LRFinder\n",
        "import torch\n",
        "import torch.nn as nn\n",
        "import torch.nn.functional as F\n",
        "\n",
        "\n",
        "class Layer(nn.Module):\n",
        "\n",
        "    def __init__(self, in_planes, planes, resBlock=False):\n",
        "        super(Layer, self).__init__()\n",
        "        self.conv1 = nn.Conv2d(in_channels = in_planes, out_channels = planes, kernel_size=3, stride=1, padding=1, bias=False)\n",
        "        self.pool = nn.MaxPool2d(2, 2)\n",
        "        self.bn1 = nn.BatchNorm2d(planes)\n",
        "        self.shortcut = nn.Sequential()\n",
        "        if resBlock:\n",
        "            self.shortcut = nn.Sequential(\n",
        "                nn.Conv2d(in_channels = planes, out_channels = planes, kernel_size=3, stride=1, padding=1, bias=False),\n",
        "                nn.BatchNorm2d(planes),\n",
        "                nn.ReLU(inplace=False),\n",
        "                nn.Conv2d(in_channels = planes, out_channels = planes, kernel_size=3, stride=1,padding=1, bias=False),\n",
        "                nn.BatchNorm2d(planes),\n",
        "                nn.ReLU(inplace=False)\n",
        "            )\n",
        "\n",
        "    def forward(self, x):\n",
        "        out = F.relu(self.bn1(self.pool(self.conv1(x))),inplace=False)\n",
        "        r1 = self.shortcut(out)\n",
        "        out = out + r1\n",
        "        return out\n",
        "\n",
        "\n",
        "class Session11(nn.Module):\n",
        "    def __init__(self, num_classes=10):\n",
        "        super(Session11, self).__init__()\n",
        "        self.conv1 = nn.Conv2d(in_channels= 3, out_channels =64, kernel_size=3, stride=1, padding=1, bias=False)\n",
        "        self.bn1 = nn.BatchNorm2d(64)\n",
        "        self.layer1 = nn.Sequential(Layer(64, 128,True))\n",
        "        self.layer2 = nn.Sequential(Layer(128, 256,False))\n",
        "        self.layer3 = nn.Sequential(Layer(256, 512,True))\n",
        "        self.linear = nn.Linear(512, num_classes,bias=False)\n",
        "\n",
        "    # def _make_layer(self, block, planes, num_blocks, resBlock):\n",
        "    #     strides = [stride] + [1]*(num_blocks-1)\n",
        "    #     layers = []\n",
        "    #     for stride in strides:\n",
        "    #         layers.append(block(self.in_planes, planes, stride))\n",
        "    #         self.in_planes = planes * block.expansion\n",
        "    #     return nn.Sequential(*layers)\n",
        "\n",
        "    def forward(self, x):\n",
        "        out = F.relu(self.bn1(self.conv1(x)),inplace=False)\n",
        "        out = self.layer1(out)\n",
        "        out = self.layer2(out)\n",
        "        out = self.layer3(out)\n",
        "        out = F.max_pool2d(input = out, kernel_size=4)\n",
        "        out = out.view(out.size(0), -1)\n",
        "        out = self.linear(out)\n",
        "        # x = out.view(-1, 10)\n",
        "        return F.log_softmax(out, dim=-1)\n",
        "        \n",
        "\n",
        "# net = Session11()\n",
        "# print(net)\n",
        "# summary(net.cuda(), input_size=(3, 32, 32))\n"
      ],
      "execution_count": 0,
      "outputs": []
    },
    {
      "cell_type": "code",
      "metadata": {
        "id": "XvqC3c5DaPxz",
        "colab_type": "code",
        "colab": {
          "base_uri": "https://localhost:8080/",
          "height": 200
        },
        "outputId": "caa0e3dd-701d-42ff-fb41-40f60b27d368"
      },
      "source": [
        "criterion = nn.CrossEntropyLoss()\n",
        "\n",
        "optimizer = optim.SGD(model.parameters(), lr=0.01, momentum=0.9, weight_decay= 0.0001)\n",
        "lr_finder = LRFinder(model, optimizer, criterion, device)\n"
      ],
      "execution_count": 9,
      "outputs": [
        {
          "output_type": "error",
          "ename": "NameError",
          "evalue": "ignored",
          "traceback": [
            "\u001b[0;31m---------------------------------------------------------------------------\u001b[0m",
            "\u001b[0;31mNameError\u001b[0m                                 Traceback (most recent call last)",
            "\u001b[0;32m<ipython-input-9-cd5048fb4201>\u001b[0m in \u001b[0;36m<module>\u001b[0;34m()\u001b[0m\n\u001b[1;32m      2\u001b[0m \u001b[0;34m\u001b[0m\u001b[0m\n\u001b[1;32m      3\u001b[0m \u001b[0moptimizer\u001b[0m \u001b[0;34m=\u001b[0m \u001b[0moptim\u001b[0m\u001b[0;34m.\u001b[0m\u001b[0mSGD\u001b[0m\u001b[0;34m(\u001b[0m\u001b[0mmodel\u001b[0m\u001b[0;34m.\u001b[0m\u001b[0mparameters\u001b[0m\u001b[0;34m(\u001b[0m\u001b[0;34m)\u001b[0m\u001b[0;34m,\u001b[0m \u001b[0mlr\u001b[0m\u001b[0;34m=\u001b[0m\u001b[0;36m0.01\u001b[0m\u001b[0;34m,\u001b[0m \u001b[0mmomentum\u001b[0m\u001b[0;34m=\u001b[0m\u001b[0;36m0.9\u001b[0m\u001b[0;34m,\u001b[0m \u001b[0mweight_decay\u001b[0m\u001b[0;34m=\u001b[0m \u001b[0;36m0.0001\u001b[0m\u001b[0;34m)\u001b[0m\u001b[0;34m\u001b[0m\u001b[0;34m\u001b[0m\u001b[0m\n\u001b[0;32m----> 4\u001b[0;31m \u001b[0mlr_finder\u001b[0m \u001b[0;34m=\u001b[0m \u001b[0mLRFinder\u001b[0m\u001b[0;34m(\u001b[0m\u001b[0mmodel\u001b[0m\u001b[0;34m,\u001b[0m \u001b[0moptimizer\u001b[0m\u001b[0;34m,\u001b[0m \u001b[0mcriterion\u001b[0m\u001b[0;34m,\u001b[0m \u001b[0mdevice\u001b[0m\u001b[0;34m)\u001b[0m\u001b[0;34m\u001b[0m\u001b[0;34m\u001b[0m\u001b[0m\n\u001b[0m",
            "\u001b[0;31mNameError\u001b[0m: name 'LRFinder' is not defined"
          ]
        }
      ]
    },
    {
      "cell_type": "code",
      "metadata": {
        "id": "mSuItTaXBlqn",
        "colab_type": "code",
        "colab": {}
      },
      "source": [
        "\n",
        "import torch\n",
        "import torchvision\n",
        "import torchvision.transforms as transforms\n",
        "import matplotlib.pyplot as plt\n",
        "import numpy as np\n",
        "import albumentations as A\n",
        "from torch.utils.data import DataLoader, Dataset\n",
        "from albumentations.pytorch import ToTensor\n",
        "from albumentations import Compose, RandomCrop,PadIfNeeded,Flip, Normalize, HorizontalFlip, Cutout, VerticalFlip, Rotate, RGBShift\n",
        "from albumentations.pytorch import ToTensor\n",
        "\n",
        "class albumCompose:\n",
        "    def __init__(self):\n",
        "        self.albumentations_transform = Compose({\n",
        "            PadIfNeeded(min_height=40,min_width=40),\n",
        "            RandomCrop(32,32),\n",
        "            Flip(),\n",
        "            VerticalFlip(p=0.5)\n",
        "            Cutout(max_h_size=8,max_w_size=8,num_holes=1),\n",
        "            Normalize((0.49139968, 0.48215841, 0.44653091), (0.24703223, 0.24348513, 0.26158784))\n",
        "        })\n",
        "    def __call__(self, img):\n",
        "        img = np.array(img)\n",
        "        img = self.albumentations_transform(image=img)['image']\n",
        "        img = np.transpose(img, (2, 0, 1)).astype(np.float32)\n",
        "        return torch.tensor(img, dtype=torch.float)\n",
        "\n",
        "class albumCompose_test:\n",
        "    def __init__(self):\n",
        "        self.albumentations_transform = Compose({\n",
        "        Normalize((0.49139968, 0.48215841, 0.44653091), (0.24703223, 0.24348513, 0.26158784))\n",
        "        })\n",
        "    def __call__(self, img):\n",
        "        img = np.array(img)\n",
        "        img = self.albumentations_transform(image=img)['image']\n",
        "        img = np.transpose(img, (2, 0, 1)).astype(np.float32)\n",
        "        return torch.tensor(img, dtype=torch.float)\n",
        "\n",
        "\n",
        "class GetData():\n",
        "    def importDataset():\n",
        "        SEED = 1\n",
        "        # CUDA?\n",
        "        cuda = torch.cuda.is_available()\n",
        "        print(\"CUDA Available?\", cuda)\n",
        "        # For reproducibility\n",
        "        device = torch.device(\"cuda\" if cuda else \"cpu\")\n",
        "        \n",
        "        torch.manual_seed(SEED)\n",
        "        \n",
        "        if cuda:\n",
        "            torch.cuda.manual_seed(SEED)\n",
        "\n",
        "        # train_transforms = transforms.Compose([\n",
        "        #                                 transforms.RandomCrop(32, padding=4),\n",
        "        #                                 transforms.RandomHorizontalFlip(),\n",
        "        #                                 transforms.Cutout()\n",
        "        #                                 transforms.ToTensor(),\n",
        "        #                                 transforms.Normalize((0.5, 0.5, 0.5), (0.5, 0.5, 0.5)) # The mean and std have to be sequences (e.g., tuples), therefore you should add a comma after the values.\n",
        "        #                                ])\n",
        "        # test_transforms = transforms.Compose([\n",
        "        #                                transforms.ToTensor(),\n",
        "        #                                 transforms.Normalize((0.5, 0.5, 0.5), (0.5, 0.5, 0.5))\n",
        "        #                                ])\n",
        "        trainset = torchvision.datasets.CIFAR10(root='./data', train=True,\n",
        "                                            download=True, transform=albumCompose())\n",
        "        trainloader = torch.utils.data.DataLoader(trainset, batch_size=512,\n",
        "                                              shuffle=True, num_workers=4)\n",
        "        testset = torchvision.datasets.CIFAR10(root='./data', train=False,\n",
        "                                           download=True, transform=albumCompose_test())\n",
        "        testloader = torch.utils.data.DataLoader(testset, batch_size=512,\n",
        "                                             shuffle=False, num_workers=4)\n",
        "        classes = ('plane', 'car', 'bird', 'cat',\n",
        "               'deer', 'dog', 'frog', 'horse', 'ship', 'truck')\n",
        "        return trainloader, testloader, classes, device\n"
      ],
      "execution_count": 0,
      "outputs": []
    },
    {
      "cell_type": "code",
      "metadata": {
        "id": "zyDM_xz2Bm5A",
        "colab_type": "code",
        "colab": {
          "base_uri": "https://localhost:8080/",
          "height": 69
        },
        "outputId": "2857e474-c2fb-4da8-f05f-44b63a366b4a"
      },
      "source": [
        "trainloader, testloader, classes, device = GetData.importDataset()"
      ],
      "execution_count": 4,
      "outputs": [
        {
          "output_type": "stream",
          "text": [
            "CUDA Available? True\n",
            "Files already downloaded and verified\n",
            "Files already downloaded and verified\n"
          ],
          "name": "stdout"
        }
      ]
    },
    {
      "cell_type": "code",
      "metadata": {
        "id": "_N4sHU2uBw-T",
        "colab_type": "code",
        "colab": {}
      },
      "source": [
        "model = Session11().to(device);"
      ],
      "execution_count": 0,
      "outputs": []
    },
    {
      "cell_type": "code",
      "metadata": {
        "id": "-sfkKun7ByrO",
        "colab_type": "code",
        "colab": {}
      },
      "source": [
        "def test(model, device, test_loader):\n",
        "    model.eval()\n",
        "    test_loss = 0\n",
        "    correct = 0\n",
        "    test_losses = 0.0\n",
        "    test_acc = 0.0\n",
        "    pred_wrong = []\n",
        "    true_wrong = []\n",
        "    image = []\n",
        "    with torch.no_grad():\n",
        "        for data, target in test_loader:\n",
        "            data, target = data.to(device), target.to(device)\n",
        "            output = model(data)\n",
        "            test_loss += F.nll_loss(output, target, reduction='sum').item()  # sum up batch loss\n",
        "            pred = output.argmax(dim=1, keepdim=True)  # get the index of the max log-probability\n",
        "            correct += pred.eq(target.view_as(pred)).sum().item()\n",
        "            _, predicted = torch.max(output.data, 1)\n",
        "            preds = predicted.cpu().numpy()\n",
        "            tar = target.cpu().numpy()\n",
        "            preds = np.reshape(preds,(len(preds),1))\n",
        "            tar = np.reshape(tar,(len(preds),1))\n",
        "            for i in range(len(preds)):\n",
        "                # pred.append(preds[i])\n",
        "                # true.append(target[i])\n",
        "                if(preds[i]!=tar[i]):\n",
        "                    pred_wrong.append(preds[i])\n",
        "                    true_wrong.append(tar[i])\n",
        "                    image.append(data[i])\n",
        "    test_loss /= len(test_loader.dataset)\n",
        "    test_losses = test_loss\n",
        "\n",
        "    print('\\nTest set: Average loss: {:.4f}, Accuracy: {}/{} ({:.2f}%)\\n'.format(\n",
        "        test_loss, correct, len(test_loader.dataset),\n",
        "        100. * correct / len(test_loader.dataset)))\n",
        "\n",
        "    test_acc = 100. * correct / len(test_loader.dataset)\n",
        "    \n",
        "    return image,true_wrong,pred_wrong,test_acc,test_losses\n"
      ],
      "execution_count": 0,
      "outputs": []
    },
    {
      "cell_type": "code",
      "metadata": {
        "id": "VdhSPeI3B08w",
        "colab_type": "code",
        "colab": {}
      },
      "source": [
        "criterion = nn.CrossEntropyLoss()\n",
        "model = Session11().to(device);\n",
        "optimizer = optim.SGD(model.parameters(), lr=0.001, momentum=0.9, nesterov=True, weight_decay= 0.0001)\n",
        "scheduler = optim.lr_scheduler.OneCycleLR(optimizer=optimizer, max_lr=0.009,pct_start =0.20,epochs=24, steps_per_epoch=len(trainloader))\n",
        "# ,div_factor =8,final_div_factor = 8)\n",
        "# scheduler = optim.lr_scheduler.OneCycleLR(optimizer=optimizer, max_lr=0.0152480,pct_start =5/24,steps_per_epoch=len(trainloader),total_steps = 24,div_factor =8,final_div_factor = 8,epochs = 24)\n"
      ],
      "execution_count": 0,
      "outputs": []
    },
    {
      "cell_type": "code",
      "metadata": {
        "id": "uS-rhOFTCIs6",
        "colab_type": "code",
        "colab": {
          "base_uri": "https://localhost:8080/",
          "height": 1000
        },
        "outputId": "0816bb6a-ea74-4f82-dea8-1f20e8b09770"
      },
      "source": [
        "train_losses = []\n",
        "train_acc = []\n",
        "test_losses = []\n",
        "test_acc = []\n",
        "    \n",
        "for epoch in range(24):\n",
        "    correct = 0\n",
        "    processed = 0\n",
        "    pbar = tqdm(trainloader)\n",
        "    model.train()\n",
        "    for batch_idx, (data, target) in enumerate(pbar):\n",
        "        # get samples        \n",
        "        data, target = data.to(device), target.to(device)\n",
        "        # Init\n",
        "        optimizer.zero_grad()\n",
        "        # In PyTorch, we need to set the gradients to zero before starting to do backpropragation because PyTorch accumulates the gradients on subsequent backward passes. \n",
        "        # Because of this, when you start your training loop, ideally you should zero out the gradients so that you do the parameter update correctly.\n",
        "        # Predict\n",
        "        y_pred = model(data)\n",
        "        loss = F.nll_loss(y_pred, target)\n",
        "        loss.backward()\n",
        "        optimizer.step()\n",
        "        scheduler.step()\n",
        "        pred = y_pred.argmax(dim=1, keepdim=True)  # get the index of the max log-probability\n",
        "        correct += pred.eq(target.view_as(pred)).sum().item()\n",
        "        processed += len(data)\n",
        "        pbar.set_description(desc= f' Epoch = {(epoch+1)}Loss={loss.item()} Batch_id={batch_idx} Accuracy={100*correct/processed:0.2f}')\n",
        "        # train_acc.append(100*correct/processed)\n",
        "\n",
        "    train_losses.append(loss.item())    \n",
        "    train_acc.append(100*correct/processed)\n",
        "    \n",
        "    \n",
        "    img,true_wrong,pred_wrong,tst_acc ,tst_loss = test(model, device, testloader)\n",
        "    test_losses.append(tst_loss)\n",
        "    test_acc.append(tst_acc)\n",
        "        "
      ],
      "execution_count": 8,
      "outputs": [
        {
          "output_type": "stream",
          "text": [
            " Epoch = 1Loss=1.521882176399231 Batch_id=97 Accuracy=33.88: 100%|██████████| 98/98 [00:14<00:00,  6.65it/s]\n",
            "  0%|          | 0/98 [00:00<?, ?it/s]"
          ],
          "name": "stderr"
        },
        {
          "output_type": "stream",
          "text": [
            "\n",
            "Test set: Average loss: 1.4494, Accuracy: 4680/10000 (46.80%)\n",
            "\n"
          ],
          "name": "stdout"
        },
        {
          "output_type": "stream",
          "text": [
            " Epoch = 2Loss=1.2190661430358887 Batch_id=97 Accuracy=52.81: 100%|██████████| 98/98 [00:14<00:00,  6.64it/s]\n",
            "  0%|          | 0/98 [00:00<?, ?it/s]"
          ],
          "name": "stderr"
        },
        {
          "output_type": "stream",
          "text": [
            "\n",
            "Test set: Average loss: 1.2408, Accuracy: 5543/10000 (55.43%)\n",
            "\n"
          ],
          "name": "stdout"
        },
        {
          "output_type": "stream",
          "text": [
            " Epoch = 3Loss=1.2562021017074585 Batch_id=97 Accuracy=58.70: 100%|██████████| 98/98 [00:14<00:00,  6.66it/s]\n",
            "  0%|          | 0/98 [00:00<?, ?it/s]"
          ],
          "name": "stderr"
        },
        {
          "output_type": "stream",
          "text": [
            "\n",
            "Test set: Average loss: 1.1823, Accuracy: 5956/10000 (59.56%)\n",
            "\n"
          ],
          "name": "stdout"
        },
        {
          "output_type": "stream",
          "text": [
            " Epoch = 4Loss=1.008007287979126 Batch_id=97 Accuracy=61.74: 100%|██████████| 98/98 [00:14<00:00,  6.66it/s]\n",
            "  0%|          | 0/98 [00:00<?, ?it/s]"
          ],
          "name": "stderr"
        },
        {
          "output_type": "stream",
          "text": [
            "\n",
            "Test set: Average loss: 1.0384, Accuracy: 6475/10000 (64.75%)\n",
            "\n"
          ],
          "name": "stdout"
        },
        {
          "output_type": "stream",
          "text": [
            " Epoch = 5Loss=1.0361729860305786 Batch_id=97 Accuracy=66.29: 100%|██████████| 98/98 [00:14<00:00,  6.58it/s]\n",
            "  0%|          | 0/98 [00:00<?, ?it/s]"
          ],
          "name": "stderr"
        },
        {
          "output_type": "stream",
          "text": [
            "\n",
            "Test set: Average loss: 1.3402, Accuracy: 5635/10000 (56.35%)\n",
            "\n"
          ],
          "name": "stdout"
        },
        {
          "output_type": "stream",
          "text": [
            " Epoch = 6Loss=0.791975736618042 Batch_id=97 Accuracy=71.14: 100%|██████████| 98/98 [00:14<00:00,  6.66it/s]\n",
            "  0%|          | 0/98 [00:00<?, ?it/s]"
          ],
          "name": "stderr"
        },
        {
          "output_type": "stream",
          "text": [
            "\n",
            "Test set: Average loss: 1.0091, Accuracy: 6601/10000 (66.01%)\n",
            "\n"
          ],
          "name": "stdout"
        },
        {
          "output_type": "stream",
          "text": [
            " Epoch = 7Loss=0.6659895181655884 Batch_id=97 Accuracy=74.18: 100%|██████████| 98/98 [00:14<00:00,  6.67it/s]\n",
            "  0%|          | 0/98 [00:00<?, ?it/s]"
          ],
          "name": "stderr"
        },
        {
          "output_type": "stream",
          "text": [
            "\n",
            "Test set: Average loss: 0.7228, Accuracy: 7510/10000 (75.10%)\n",
            "\n"
          ],
          "name": "stdout"
        },
        {
          "output_type": "stream",
          "text": [
            " Epoch = 8Loss=0.5877643823623657 Batch_id=97 Accuracy=77.06: 100%|██████████| 98/98 [00:14<00:00,  6.65it/s]\n",
            "  0%|          | 0/98 [00:00<?, ?it/s]"
          ],
          "name": "stderr"
        },
        {
          "output_type": "stream",
          "text": [
            "\n",
            "Test set: Average loss: 0.6770, Accuracy: 7667/10000 (76.67%)\n",
            "\n"
          ],
          "name": "stdout"
        },
        {
          "output_type": "stream",
          "text": [
            " Epoch = 9Loss=0.5978225469589233 Batch_id=97 Accuracy=78.86: 100%|██████████| 98/98 [00:14<00:00,  6.64it/s]\n",
            "  0%|          | 0/98 [00:00<?, ?it/s]"
          ],
          "name": "stderr"
        },
        {
          "output_type": "stream",
          "text": [
            "\n",
            "Test set: Average loss: 0.6691, Accuracy: 7733/10000 (77.33%)\n",
            "\n"
          ],
          "name": "stdout"
        },
        {
          "output_type": "stream",
          "text": [
            " Epoch = 10Loss=0.5449610948562622 Batch_id=97 Accuracy=80.25: 100%|██████████| 98/98 [00:14<00:00,  6.65it/s]\n",
            "  0%|          | 0/98 [00:00<?, ?it/s]"
          ],
          "name": "stderr"
        },
        {
          "output_type": "stream",
          "text": [
            "\n",
            "Test set: Average loss: 0.6219, Accuracy: 7838/10000 (78.38%)\n",
            "\n"
          ],
          "name": "stdout"
        },
        {
          "output_type": "stream",
          "text": [
            " Epoch = 11Loss=0.46444806456565857 Batch_id=97 Accuracy=81.60: 100%|██████████| 98/98 [00:14<00:00,  6.63it/s]\n",
            "  0%|          | 0/98 [00:00<?, ?it/s]"
          ],
          "name": "stderr"
        },
        {
          "output_type": "stream",
          "text": [
            "\n",
            "Test set: Average loss: 0.7050, Accuracy: 7681/10000 (76.81%)\n",
            "\n"
          ],
          "name": "stdout"
        },
        {
          "output_type": "stream",
          "text": [
            " Epoch = 12Loss=0.3756694197654724 Batch_id=97 Accuracy=83.19: 100%|██████████| 98/98 [00:14<00:00,  6.64it/s]\n",
            "  0%|          | 0/98 [00:00<?, ?it/s]"
          ],
          "name": "stderr"
        },
        {
          "output_type": "stream",
          "text": [
            "\n",
            "Test set: Average loss: 0.5793, Accuracy: 7986/10000 (79.86%)\n",
            "\n"
          ],
          "name": "stdout"
        },
        {
          "output_type": "stream",
          "text": [
            " Epoch = 13Loss=0.4422471523284912 Batch_id=97 Accuracy=84.02: 100%|██████████| 98/98 [00:14<00:00,  6.66it/s]\n",
            "  0%|          | 0/98 [00:00<?, ?it/s]"
          ],
          "name": "stderr"
        },
        {
          "output_type": "stream",
          "text": [
            "\n",
            "Test set: Average loss: 0.5658, Accuracy: 8080/10000 (80.80%)\n",
            "\n"
          ],
          "name": "stdout"
        },
        {
          "output_type": "stream",
          "text": [
            " Epoch = 14Loss=0.3609621226787567 Batch_id=97 Accuracy=85.05: 100%|██████████| 98/98 [00:14<00:00,  6.64it/s]\n",
            "  0%|          | 0/98 [00:00<?, ?it/s]"
          ],
          "name": "stderr"
        },
        {
          "output_type": "stream",
          "text": [
            "\n",
            "Test set: Average loss: 0.5151, Accuracy: 8250/10000 (82.50%)\n",
            "\n"
          ],
          "name": "stdout"
        },
        {
          "output_type": "stream",
          "text": [
            " Epoch = 15Loss=0.434964120388031 Batch_id=97 Accuracy=85.98: 100%|██████████| 98/98 [00:14<00:00,  6.64it/s]\n",
            "  0%|          | 0/98 [00:00<?, ?it/s]"
          ],
          "name": "stderr"
        },
        {
          "output_type": "stream",
          "text": [
            "\n",
            "Test set: Average loss: 0.4707, Accuracy: 8386/10000 (83.86%)\n",
            "\n"
          ],
          "name": "stdout"
        },
        {
          "output_type": "stream",
          "text": [
            " Epoch = 16Loss=0.32755613327026367 Batch_id=97 Accuracy=86.95: 100%|██████████| 98/98 [00:14<00:00,  6.63it/s]\n",
            "  0%|          | 0/98 [00:00<?, ?it/s]"
          ],
          "name": "stderr"
        },
        {
          "output_type": "stream",
          "text": [
            "\n",
            "Test set: Average loss: 0.4741, Accuracy: 8341/10000 (83.41%)\n",
            "\n"
          ],
          "name": "stdout"
        },
        {
          "output_type": "stream",
          "text": [
            " Epoch = 17Loss=0.3591861426830292 Batch_id=97 Accuracy=87.74: 100%|██████████| 98/98 [00:14<00:00,  6.64it/s]\n",
            "  0%|          | 0/98 [00:00<?, ?it/s]"
          ],
          "name": "stderr"
        },
        {
          "output_type": "stream",
          "text": [
            "\n",
            "Test set: Average loss: 0.4454, Accuracy: 8497/10000 (84.97%)\n",
            "\n"
          ],
          "name": "stdout"
        },
        {
          "output_type": "stream",
          "text": [
            " Epoch = 18Loss=0.31885826587677 Batch_id=97 Accuracy=88.38: 100%|██████████| 98/98 [00:14<00:00,  6.65it/s]\n",
            "  0%|          | 0/98 [00:00<?, ?it/s]"
          ],
          "name": "stderr"
        },
        {
          "output_type": "stream",
          "text": [
            "\n",
            "Test set: Average loss: 0.4518, Accuracy: 8461/10000 (84.61%)\n",
            "\n"
          ],
          "name": "stdout"
        },
        {
          "output_type": "stream",
          "text": [
            " Epoch = 19Loss=0.38866668939590454 Batch_id=97 Accuracy=89.17: 100%|██████████| 98/98 [00:14<00:00,  6.64it/s]\n",
            "  0%|          | 0/98 [00:00<?, ?it/s]"
          ],
          "name": "stderr"
        },
        {
          "output_type": "stream",
          "text": [
            "\n",
            "Test set: Average loss: 0.4242, Accuracy: 8556/10000 (85.56%)\n",
            "\n"
          ],
          "name": "stdout"
        },
        {
          "output_type": "stream",
          "text": [
            " Epoch = 20Loss=0.34194597601890564 Batch_id=97 Accuracy=89.71: 100%|██████████| 98/98 [00:14<00:00,  6.63it/s]\n",
            "  0%|          | 0/98 [00:00<?, ?it/s]"
          ],
          "name": "stderr"
        },
        {
          "output_type": "stream",
          "text": [
            "\n",
            "Test set: Average loss: 0.4158, Accuracy: 8574/10000 (85.74%)\n",
            "\n"
          ],
          "name": "stdout"
        },
        {
          "output_type": "stream",
          "text": [
            " Epoch = 21Loss=0.2673614025115967 Batch_id=97 Accuracy=90.17: 100%|██████████| 98/98 [00:14<00:00,  6.65it/s]\n",
            "  0%|          | 0/98 [00:00<?, ?it/s]"
          ],
          "name": "stderr"
        },
        {
          "output_type": "stream",
          "text": [
            "\n",
            "Test set: Average loss: 0.4129, Accuracy: 8611/10000 (86.11%)\n",
            "\n"
          ],
          "name": "stdout"
        },
        {
          "output_type": "stream",
          "text": [
            " Epoch = 22Loss=0.2731640338897705 Batch_id=97 Accuracy=90.81: 100%|██████████| 98/98 [00:14<00:00,  6.63it/s]\n",
            "  0%|          | 0/98 [00:00<?, ?it/s]"
          ],
          "name": "stderr"
        },
        {
          "output_type": "stream",
          "text": [
            "\n",
            "Test set: Average loss: 0.4050, Accuracy: 8621/10000 (86.21%)\n",
            "\n"
          ],
          "name": "stdout"
        },
        {
          "output_type": "stream",
          "text": [
            " Epoch = 23Loss=0.2117154896259308 Batch_id=97 Accuracy=91.12: 100%|██████████| 98/98 [00:14<00:00,  6.63it/s]\n",
            "  0%|          | 0/98 [00:00<?, ?it/s]"
          ],
          "name": "stderr"
        },
        {
          "output_type": "stream",
          "text": [
            "\n",
            "Test set: Average loss: 0.4009, Accuracy: 8649/10000 (86.49%)\n",
            "\n"
          ],
          "name": "stdout"
        },
        {
          "output_type": "stream",
          "text": [
            " Epoch = 24Loss=0.2705129086971283 Batch_id=97 Accuracy=91.27: 100%|██████████| 98/98 [00:14<00:00,  6.64it/s]\n"
          ],
          "name": "stderr"
        },
        {
          "output_type": "stream",
          "text": [
            "\n",
            "Test set: Average loss: 0.4003, Accuracy: 8648/10000 (86.48%)\n",
            "\n"
          ],
          "name": "stdout"
        }
      ]
    },
    {
      "cell_type": "code",
      "metadata": {
        "id": "t1FkSxAnCNXC",
        "colab_type": "code",
        "colab": {}
      },
      "source": [
        ""
      ],
      "execution_count": 0,
      "outputs": []
    },
    {
      "cell_type": "code",
      "metadata": {
        "id": "kFoWGwSHMANa",
        "colab_type": "code",
        "colab": {
          "base_uri": "https://localhost:8080/",
          "height": 1000
        },
        "outputId": "32d1d9b2-1ac9-4fe1-d7e4-ff35da6578f6"
      },
      "source": [
        "train_losses = []\n",
        "train_acc = []\n",
        "test_losses = []\n",
        "test_acc = []\n",
        "    \n",
        "for epoch in range(24):\n",
        "    correct = 0\n",
        "    processed = 0\n",
        "    pbar = tqdm(trainloader)\n",
        "    model.train()\n",
        "    for batch_idx, (data, target) in enumerate(pbar):\n",
        "        # get samples        \n",
        "        data, target = data.to(device), target.to(device)\n",
        "        # Init\n",
        "        optimizer.zero_grad()\n",
        "        # In PyTorch, we need to set the gradients to zero before starting to do backpropragation because PyTorch accumulates the gradients on subsequent backward passes. \n",
        "        # Because of this, when you start your training loop, ideally you should zero out the gradients so that you do the parameter update correctly.\n",
        "        # Predict\n",
        "        y_pred = model(data)\n",
        "        loss = F.nll_loss(y_pred, target)\n",
        "        loss.backward()\n",
        "        optimizer.step()\n",
        "        scheduler.step()\n",
        "        pred = y_pred.argmax(dim=1, keepdim=True)  # get the index of the max log-probability\n",
        "        correct += pred.eq(target.view_as(pred)).sum().item()\n",
        "        processed += len(data)\n",
        "        pbar.set_description(desc= f'Loss={loss.item()} Batch_id={batch_idx} Accuracy={100*correct/processed:0.2f}')\n",
        "        # train_acc.append(100*correct/processed)\n",
        "\n",
        "    train_losses.append(loss.item())    \n",
        "    train_acc.append(100*correct/processed)\n",
        "    # scheduler.step()\n",
        "    \n",
        "    img,true_wrong,pred_wrong,tst_acc ,tst_loss = test(model, device, testloader)\n",
        "    test_losses.append(tst_loss)\n",
        "    test_acc.append(tst_acc)\n",
        "        "
      ],
      "execution_count": 10,
      "outputs": [
        {
          "output_type": "stream",
          "text": [
            "Loss=1.500083327293396 Batch_id=97 Accuracy=35.61: 100%|██████████| 98/98 [00:14<00:00,  6.65it/s]\n",
            "  0%|          | 0/98 [00:00<?, ?it/s]"
          ],
          "name": "stderr"
        },
        {
          "output_type": "stream",
          "text": [
            "\n",
            "Test set: Average loss: 1.3781, Accuracy: 5018/10000 (50.18%)\n",
            "\n"
          ],
          "name": "stdout"
        },
        {
          "output_type": "stream",
          "text": [
            "Loss=1.0908637046813965 Batch_id=97 Accuracy=53.61: 100%|██████████| 98/98 [00:14<00:00,  6.62it/s]\n",
            "  0%|          | 0/98 [00:00<?, ?it/s]"
          ],
          "name": "stderr"
        },
        {
          "output_type": "stream",
          "text": [
            "\n",
            "Test set: Average loss: 1.1662, Accuracy: 5837/10000 (58.37%)\n",
            "\n"
          ],
          "name": "stdout"
        },
        {
          "output_type": "stream",
          "text": [
            "Loss=1.0783381462097168 Batch_id=97 Accuracy=60.13: 100%|██████████| 98/98 [00:14<00:00,  6.62it/s]\n",
            "  0%|          | 0/98 [00:00<?, ?it/s]"
          ],
          "name": "stderr"
        },
        {
          "output_type": "stream",
          "text": [
            "\n",
            "Test set: Average loss: 1.0275, Accuracy: 6417/10000 (64.17%)\n",
            "\n"
          ],
          "name": "stdout"
        },
        {
          "output_type": "stream",
          "text": [
            "Loss=1.0877280235290527 Batch_id=97 Accuracy=63.12: 100%|██████████| 98/98 [00:14<00:00,  6.63it/s]\n",
            "  0%|          | 0/98 [00:00<?, ?it/s]"
          ],
          "name": "stderr"
        },
        {
          "output_type": "stream",
          "text": [
            "\n",
            "Test set: Average loss: 1.4335, Accuracy: 5548/10000 (55.48%)\n",
            "\n"
          ],
          "name": "stdout"
        },
        {
          "output_type": "stream",
          "text": [
            "Loss=0.7385026216506958 Batch_id=97 Accuracy=67.15: 100%|██████████| 98/98 [00:14<00:00,  6.61it/s]\n",
            "  0%|          | 0/98 [00:00<?, ?it/s]"
          ],
          "name": "stderr"
        },
        {
          "output_type": "stream",
          "text": [
            "\n",
            "Test set: Average loss: 1.0973, Accuracy: 6478/10000 (64.78%)\n",
            "\n"
          ],
          "name": "stdout"
        },
        {
          "output_type": "stream",
          "text": [
            "Loss=0.8024657964706421 Batch_id=97 Accuracy=70.99: 100%|██████████| 98/98 [00:14<00:00,  6.58it/s]\n",
            "  0%|          | 0/98 [00:00<?, ?it/s]"
          ],
          "name": "stderr"
        },
        {
          "output_type": "stream",
          "text": [
            "\n",
            "Test set: Average loss: 0.8266, Accuracy: 7221/10000 (72.21%)\n",
            "\n"
          ],
          "name": "stdout"
        },
        {
          "output_type": "stream",
          "text": [
            "Loss=0.7218901515007019 Batch_id=97 Accuracy=74.48: 100%|██████████| 98/98 [00:14<00:00,  6.60it/s]\n",
            "  0%|          | 0/98 [00:00<?, ?it/s]"
          ],
          "name": "stderr"
        },
        {
          "output_type": "stream",
          "text": [
            "\n",
            "Test set: Average loss: 0.7003, Accuracy: 7541/10000 (75.41%)\n",
            "\n"
          ],
          "name": "stdout"
        },
        {
          "output_type": "stream",
          "text": [
            "Loss=0.7412980198860168 Batch_id=97 Accuracy=76.73: 100%|██████████| 98/98 [00:14<00:00,  6.61it/s]\n",
            "  0%|          | 0/98 [00:00<?, ?it/s]"
          ],
          "name": "stderr"
        },
        {
          "output_type": "stream",
          "text": [
            "\n",
            "Test set: Average loss: 0.5824, Accuracy: 7958/10000 (79.58%)\n",
            "\n"
          ],
          "name": "stdout"
        },
        {
          "output_type": "stream",
          "text": [
            "Loss=0.5976614356040955 Batch_id=97 Accuracy=78.66: 100%|██████████| 98/98 [00:14<00:00,  6.62it/s]\n",
            "  0%|          | 0/98 [00:00<?, ?it/s]"
          ],
          "name": "stderr"
        },
        {
          "output_type": "stream",
          "text": [
            "\n",
            "Test set: Average loss: 0.6329, Accuracy: 7867/10000 (78.67%)\n",
            "\n"
          ],
          "name": "stdout"
        },
        {
          "output_type": "stream",
          "text": [
            "Loss=0.46365103125572205 Batch_id=97 Accuracy=80.47: 100%|██████████| 98/98 [00:14<00:00,  6.61it/s]\n",
            "  0%|          | 0/98 [00:00<?, ?it/s]"
          ],
          "name": "stderr"
        },
        {
          "output_type": "stream",
          "text": [
            "\n",
            "Test set: Average loss: 0.5523, Accuracy: 8111/10000 (81.11%)\n",
            "\n"
          ],
          "name": "stdout"
        },
        {
          "output_type": "stream",
          "text": [
            "Loss=0.556986391544342 Batch_id=97 Accuracy=81.66: 100%|██████████| 98/98 [00:14<00:00,  6.60it/s]\n",
            "  0%|          | 0/98 [00:00<?, ?it/s]"
          ],
          "name": "stderr"
        },
        {
          "output_type": "stream",
          "text": [
            "\n",
            "Test set: Average loss: 0.5451, Accuracy: 8075/10000 (80.75%)\n",
            "\n"
          ],
          "name": "stdout"
        },
        {
          "output_type": "stream",
          "text": [
            "Loss=0.5582292675971985 Batch_id=97 Accuracy=83.02: 100%|██████████| 98/98 [00:14<00:00,  6.61it/s]\n",
            "  0%|          | 0/98 [00:00<?, ?it/s]"
          ],
          "name": "stderr"
        },
        {
          "output_type": "stream",
          "text": [
            "\n",
            "Test set: Average loss: 0.5729, Accuracy: 8077/10000 (80.77%)\n",
            "\n"
          ],
          "name": "stdout"
        },
        {
          "output_type": "stream",
          "text": [
            "Loss=0.46878209710121155 Batch_id=97 Accuracy=84.05: 100%|██████████| 98/98 [00:14<00:00,  6.59it/s]\n",
            "  0%|          | 0/98 [00:00<?, ?it/s]"
          ],
          "name": "stderr"
        },
        {
          "output_type": "stream",
          "text": [
            "\n",
            "Test set: Average loss: 0.5122, Accuracy: 8259/10000 (82.59%)\n",
            "\n"
          ],
          "name": "stdout"
        },
        {
          "output_type": "stream",
          "text": [
            "Loss=0.4595309793949127 Batch_id=97 Accuracy=84.76: 100%|██████████| 98/98 [00:14<00:00,  6.61it/s]\n",
            "  0%|          | 0/98 [00:00<?, ?it/s]"
          ],
          "name": "stderr"
        },
        {
          "output_type": "stream",
          "text": [
            "\n",
            "Test set: Average loss: 0.5353, Accuracy: 8190/10000 (81.90%)\n",
            "\n"
          ],
          "name": "stdout"
        },
        {
          "output_type": "stream",
          "text": [
            "Loss=0.3744792342185974 Batch_id=97 Accuracy=85.96: 100%|██████████| 98/98 [00:14<00:00,  6.60it/s]\n",
            "  0%|          | 0/98 [00:00<?, ?it/s]"
          ],
          "name": "stderr"
        },
        {
          "output_type": "stream",
          "text": [
            "\n",
            "Test set: Average loss: 0.4660, Accuracy: 8431/10000 (84.31%)\n",
            "\n"
          ],
          "name": "stdout"
        },
        {
          "output_type": "stream",
          "text": [
            "Loss=0.3581699728965759 Batch_id=97 Accuracy=86.59: 100%|██████████| 98/98 [00:14<00:00,  6.54it/s]\n",
            "  0%|          | 0/98 [00:00<?, ?it/s]"
          ],
          "name": "stderr"
        },
        {
          "output_type": "stream",
          "text": [
            "\n",
            "Test set: Average loss: 0.4724, Accuracy: 8433/10000 (84.33%)\n",
            "\n"
          ],
          "name": "stdout"
        },
        {
          "output_type": "stream",
          "text": [
            "Loss=0.3348392844200134 Batch_id=97 Accuracy=87.17: 100%|██████████| 98/98 [00:14<00:00,  6.58it/s]\n",
            "  0%|          | 0/98 [00:00<?, ?it/s]"
          ],
          "name": "stderr"
        },
        {
          "output_type": "stream",
          "text": [
            "\n",
            "Test set: Average loss: 0.4453, Accuracy: 8487/10000 (84.87%)\n",
            "\n"
          ],
          "name": "stdout"
        },
        {
          "output_type": "stream",
          "text": [
            "Loss=0.42685654759407043 Batch_id=97 Accuracy=88.02: 100%|██████████| 98/98 [00:14<00:00,  6.58it/s]\n",
            "  0%|          | 0/98 [00:00<?, ?it/s]"
          ],
          "name": "stderr"
        },
        {
          "output_type": "stream",
          "text": [
            "\n",
            "Test set: Average loss: 0.4259, Accuracy: 8572/10000 (85.72%)\n",
            "\n"
          ],
          "name": "stdout"
        },
        {
          "output_type": "stream",
          "text": [
            "Loss=0.36601176857948303 Batch_id=97 Accuracy=88.71: 100%|██████████| 98/98 [00:14<00:00,  6.58it/s]\n",
            "  0%|          | 0/98 [00:00<?, ?it/s]"
          ],
          "name": "stderr"
        },
        {
          "output_type": "stream",
          "text": [
            "\n",
            "Test set: Average loss: 0.4033, Accuracy: 8630/10000 (86.30%)\n",
            "\n"
          ],
          "name": "stdout"
        },
        {
          "output_type": "stream",
          "text": [
            "Loss=0.31550338864326477 Batch_id=97 Accuracy=89.23: 100%|██████████| 98/98 [00:14<00:00,  6.53it/s]\n",
            "  0%|          | 0/98 [00:00<?, ?it/s]"
          ],
          "name": "stderr"
        },
        {
          "output_type": "stream",
          "text": [
            "\n",
            "Test set: Average loss: 0.3994, Accuracy: 8665/10000 (86.65%)\n",
            "\n"
          ],
          "name": "stdout"
        },
        {
          "output_type": "stream",
          "text": [
            "Loss=0.22869938611984253 Batch_id=97 Accuracy=90.03: 100%|██████████| 98/98 [00:14<00:00,  6.60it/s]\n",
            "  0%|          | 0/98 [00:00<?, ?it/s]"
          ],
          "name": "stderr"
        },
        {
          "output_type": "stream",
          "text": [
            "\n",
            "Test set: Average loss: 0.3848, Accuracy: 8708/10000 (87.08%)\n",
            "\n"
          ],
          "name": "stdout"
        },
        {
          "output_type": "stream",
          "text": [
            "Loss=0.3327380120754242 Batch_id=97 Accuracy=90.32: 100%|██████████| 98/98 [00:14<00:00,  6.62it/s]\n",
            "  0%|          | 0/98 [00:00<?, ?it/s]"
          ],
          "name": "stderr"
        },
        {
          "output_type": "stream",
          "text": [
            "\n",
            "Test set: Average loss: 0.3800, Accuracy: 8726/10000 (87.26%)\n",
            "\n"
          ],
          "name": "stdout"
        },
        {
          "output_type": "stream",
          "text": [
            "Loss=0.232192724943161 Batch_id=97 Accuracy=90.63: 100%|██████████| 98/98 [00:14<00:00,  6.59it/s]\n",
            "  0%|          | 0/98 [00:00<?, ?it/s]"
          ],
          "name": "stderr"
        },
        {
          "output_type": "stream",
          "text": [
            "\n",
            "Test set: Average loss: 0.3763, Accuracy: 8731/10000 (87.31%)\n",
            "\n"
          ],
          "name": "stdout"
        },
        {
          "output_type": "stream",
          "text": [
            "Loss=0.28625577688217163 Batch_id=97 Accuracy=90.90: 100%|██████████| 98/98 [00:14<00:00,  6.61it/s]\n"
          ],
          "name": "stderr"
        },
        {
          "output_type": "stream",
          "text": [
            "\n",
            "Test set: Average loss: 0.3749, Accuracy: 8732/10000 (87.32%)\n",
            "\n"
          ],
          "name": "stdout"
        }
      ]
    }
  ]
}